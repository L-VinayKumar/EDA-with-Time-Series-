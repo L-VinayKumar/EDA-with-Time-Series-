{
 "cells": [
  {
   "cell_type": "markdown",
   "id": "134dd9b8",
   "metadata": {},
   "source": [
    "# EDA with Time Series\n",
    "\n",
    "## Objective\n",
    "\n",
    "* Date time index\n",
    "* Extract Date feature\n",
    "* Time resampling\n",
    "    1. year end Frequency (rule = 'A')\n",
    "    2. Quaterly start frequency (rule = 'QS')\n",
    "    3. Business End frequency (rule = 'BA')\n",
    "    4. Business Quater start frequency (rule = 'BQS')\n",
    "* visualization\n",
    "* Rolling"
   ]
  },
  {
   "cell_type": "markdown",
   "id": "dcbf15b5",
   "metadata": {},
   "source": [
    "##### Import relevant libraries"
   ]
  },
  {
   "cell_type": "code",
   "execution_count": 1,
   "id": "8d996688",
   "metadata": {},
   "outputs": [],
   "source": [
    "import pandas_datareader as pdr\n",
    "import pandas as pd\n",
    "from datetime import datetime\n",
    "\n",
    "import matplotlib.pyplot as plt\n",
    "%matplotlib inline"
   ]
  },
  {
   "cell_type": "code",
   "execution_count": 2,
   "id": "1a12ec94",
   "metadata": {},
   "outputs": [],
   "source": [
    "df_tesla = pdr.get_data_yahoo('TSLA')"
   ]
  },
  {
   "cell_type": "code",
   "execution_count": 3,
   "id": "597f16e7",
   "metadata": {},
   "outputs": [
    {
     "data": {
      "text/html": [
       "<div>\n",
       "<style scoped>\n",
       "    .dataframe tbody tr th:only-of-type {\n",
       "        vertical-align: middle;\n",
       "    }\n",
       "\n",
       "    .dataframe tbody tr th {\n",
       "        vertical-align: top;\n",
       "    }\n",
       "\n",
       "    .dataframe thead th {\n",
       "        text-align: right;\n",
       "    }\n",
       "</style>\n",
       "<table border=\"1\" class=\"dataframe\">\n",
       "  <thead>\n",
       "    <tr style=\"text-align: right;\">\n",
       "      <th></th>\n",
       "      <th>High</th>\n",
       "      <th>Low</th>\n",
       "      <th>Open</th>\n",
       "      <th>Close</th>\n",
       "      <th>Volume</th>\n",
       "      <th>Adj Close</th>\n",
       "    </tr>\n",
       "    <tr>\n",
       "      <th>Date</th>\n",
       "      <th></th>\n",
       "      <th></th>\n",
       "      <th></th>\n",
       "      <th></th>\n",
       "      <th></th>\n",
       "      <th></th>\n",
       "    </tr>\n",
       "  </thead>\n",
       "  <tbody>\n",
       "    <tr>\n",
       "      <th>2017-10-31</th>\n",
       "      <td>22.129999</td>\n",
       "      <td>21.345333</td>\n",
       "      <td>21.348667</td>\n",
       "      <td>22.101999</td>\n",
       "      <td>85084500.0</td>\n",
       "      <td>22.101999</td>\n",
       "    </tr>\n",
       "    <tr>\n",
       "      <th>2017-11-01</th>\n",
       "      <td>22.174000</td>\n",
       "      <td>21.350668</td>\n",
       "      <td>22.150000</td>\n",
       "      <td>21.405333</td>\n",
       "      <td>126859500.0</td>\n",
       "      <td>21.405333</td>\n",
       "    </tr>\n",
       "    <tr>\n",
       "      <th>2017-11-02</th>\n",
       "      <td>20.579332</td>\n",
       "      <td>19.508667</td>\n",
       "      <td>20.008667</td>\n",
       "      <td>19.950666</td>\n",
       "      <td>296871000.0</td>\n",
       "      <td>19.950666</td>\n",
       "    </tr>\n",
       "    <tr>\n",
       "      <th>2017-11-03</th>\n",
       "      <td>20.416668</td>\n",
       "      <td>19.675333</td>\n",
       "      <td>19.966667</td>\n",
       "      <td>20.406000</td>\n",
       "      <td>133410000.0</td>\n",
       "      <td>20.406000</td>\n",
       "    </tr>\n",
       "    <tr>\n",
       "      <th>2017-11-06</th>\n",
       "      <td>20.500000</td>\n",
       "      <td>19.934000</td>\n",
       "      <td>20.466667</td>\n",
       "      <td>20.185333</td>\n",
       "      <td>97290000.0</td>\n",
       "      <td>20.185333</td>\n",
       "    </tr>\n",
       "  </tbody>\n",
       "</table>\n",
       "</div>"
      ],
      "text/plain": [
       "                 High        Low       Open      Close       Volume  Adj Close\n",
       "Date                                                                          \n",
       "2017-10-31  22.129999  21.345333  21.348667  22.101999   85084500.0  22.101999\n",
       "2017-11-01  22.174000  21.350668  22.150000  21.405333  126859500.0  21.405333\n",
       "2017-11-02  20.579332  19.508667  20.008667  19.950666  296871000.0  19.950666\n",
       "2017-11-03  20.416668  19.675333  19.966667  20.406000  133410000.0  20.406000\n",
       "2017-11-06  20.500000  19.934000  20.466667  20.185333   97290000.0  20.185333"
      ]
     },
     "execution_count": 3,
     "metadata": {},
     "output_type": "execute_result"
    }
   ],
   "source": [
    "df_tesla.head()"
   ]
  },
  {
   "cell_type": "code",
   "execution_count": 4,
   "id": "8741a17d",
   "metadata": {},
   "outputs": [
    {
     "data": {
      "text/plain": [
       "<AxesSubplot:xlabel='Date'>"
      ]
     },
     "execution_count": 4,
     "metadata": {},
     "output_type": "execute_result"
    },
    {
     "data": {
      "image/png": "[encoded data removed]",
      "text/plain": [
       "<Figure size 864x360 with 1 Axes>"
      ]
     },
     "metadata": {
      "needs_background": "light"
     },
     "output_type": "display_data"
    }
   ],
   "source": [
    "df_tesla['High'].plot(figsize = (12,5))"
   ]
  },
  {
   "cell_type": "code",
   "execution_count": 5,
   "id": "deaf15df",
   "metadata": {},
   "outputs": [
    {
     "data": {
      "text/plain": [
       "<AxesSubplot:xlabel='Date'>"
      ]
     },
     "execution_count": 5,
     "metadata": {},
     "output_type": "execute_result"
    },
    {
     "data": {
      "image/png": "[encoded data removed]",
      "text/plain": [
       "<Figure size 864x360 with 1 Axes>"
      ]
     },
     "metadata": {
      "needs_background": "light"
     },
     "output_type": "display_data"
    }
   ],
   "source": [
    "#x-limit and y-limit and coloring\n",
    "df_tesla['High'].plot(xlim = ['2020-01-01','2022-09-01'],ylim = [0,450],figsize = (12,5),color = 'green', ls = '--')"
   ]
  },
  {
   "cell_type": "code",
   "execution_count": 6,
   "id": "9009f159",
   "metadata": {},
   "outputs": [],
   "source": [
    "index = df_tesla.loc['2020-01-01':'2022-09-01'].index"
   ]
  },
  {
   "cell_type": "code",
   "execution_count": 7,
   "id": "3a95a44c",
   "metadata": {},
   "outputs": [],
   "source": [
    "share_open = df_tesla.loc['2020-01-01':'2022-09-01']['Open']"
   ]
  },
  {
   "cell_type": "code",
   "execution_count": 8,
   "id": "8c4533b2",
   "metadata": {},
   "outputs": [],
   "source": [
    "r = share_open.reset_index()\n",
    "r.columns=['date-wise','open_prices']"
   ]
  },
  {
   "cell_type": "code",
   "execution_count": 9,
   "id": "c7bc41ab",
   "metadata": {},
   "outputs": [
    {
     "data": {
      "text/html": [
       "<div>\n",
       "<style scoped>\n",
       "    .dataframe tbody tr th:only-of-type {\n",
       "        vertical-align: middle;\n",
       "    }\n",
       "\n",
       "    .dataframe tbody tr th {\n",
       "        vertical-align: top;\n",
       "    }\n",
       "\n",
       "    .dataframe thead th {\n",
       "        text-align: right;\n",
       "    }\n",
       "</style>\n",
       "<table border=\"1\" class=\"dataframe\">\n",
       "  <thead>\n",
       "    <tr style=\"text-align: right;\">\n",
       "      <th></th>\n",
       "      <th>date-wise</th>\n",
       "      <th>open_prices</th>\n",
       "    </tr>\n",
       "  </thead>\n",
       "  <tbody>\n",
       "    <tr>\n",
       "      <th>0</th>\n",
       "      <td>2020-01-02</td>\n",
       "      <td>28.299999</td>\n",
       "    </tr>\n",
       "    <tr>\n",
       "      <th>1</th>\n",
       "      <td>2020-01-03</td>\n",
       "      <td>29.366667</td>\n",
       "    </tr>\n",
       "    <tr>\n",
       "      <th>2</th>\n",
       "      <td>2020-01-06</td>\n",
       "      <td>29.364668</td>\n",
       "    </tr>\n",
       "    <tr>\n",
       "      <th>3</th>\n",
       "      <td>2020-01-07</td>\n",
       "      <td>30.760000</td>\n",
       "    </tr>\n",
       "    <tr>\n",
       "      <th>4</th>\n",
       "      <td>2020-01-08</td>\n",
       "      <td>31.580000</td>\n",
       "    </tr>\n",
       "    <tr>\n",
       "      <th>...</th>\n",
       "      <td>...</td>\n",
       "      <td>...</td>\n",
       "    </tr>\n",
       "    <tr>\n",
       "      <th>668</th>\n",
       "      <td>2022-08-26</td>\n",
       "      <td>297.429993</td>\n",
       "    </tr>\n",
       "    <tr>\n",
       "      <th>669</th>\n",
       "      <td>2022-08-29</td>\n",
       "      <td>282.829987</td>\n",
       "    </tr>\n",
       "    <tr>\n",
       "      <th>670</th>\n",
       "      <td>2022-08-30</td>\n",
       "      <td>287.869995</td>\n",
       "    </tr>\n",
       "    <tr>\n",
       "      <th>671</th>\n",
       "      <td>2022-08-31</td>\n",
       "      <td>280.619995</td>\n",
       "    </tr>\n",
       "    <tr>\n",
       "      <th>672</th>\n",
       "      <td>2022-09-01</td>\n",
       "      <td>272.579987</td>\n",
       "    </tr>\n",
       "  </tbody>\n",
       "</table>\n",
       "<p>673 rows × 2 columns</p>\n",
       "</div>"
      ],
      "text/plain": [
       "     date-wise  open_prices\n",
       "0   2020-01-02    28.299999\n",
       "1   2020-01-03    29.366667\n",
       "2   2020-01-06    29.364668\n",
       "3   2020-01-07    30.760000\n",
       "4   2020-01-08    31.580000\n",
       "..         ...          ...\n",
       "668 2022-08-26   297.429993\n",
       "669 2022-08-29   282.829987\n",
       "670 2022-08-30   287.869995\n",
       "671 2022-08-31   280.619995\n",
       "672 2022-09-01   272.579987\n",
       "\n",
       "[673 rows x 2 columns]"
      ]
     },
     "execution_count": 9,
     "metadata": {},
     "output_type": "execute_result"
    }
   ],
   "source": [
    "r"
   ]
  },
  {
   "cell_type": "code",
   "execution_count": 10,
   "id": "c35d351d",
   "metadata": {},
   "outputs": [
    {
     "data": {
      "text/plain": [
       "Date\n",
       "2020-01-02     28.299999\n",
       "2020-01-03     29.366667\n",
       "2020-01-06     29.364668\n",
       "2020-01-07     30.760000\n",
       "2020-01-08     31.580000\n",
       "                 ...    \n",
       "2022-08-26    297.429993\n",
       "2022-08-29    282.829987\n",
       "2022-08-30    287.869995\n",
       "2022-08-31    280.619995\n",
       "2022-09-01    272.579987\n",
       "Name: Open, Length: 673, dtype: float64"
      ]
     },
     "execution_count": 10,
     "metadata": {},
     "output_type": "execute_result"
    }
   ],
   "source": [
    "share_open"
   ]
  },
  {
   "cell_type": "code",
   "execution_count": null,
   "id": "9cff1d02",
   "metadata": {},
   "outputs": [],
   "source": []
  },
  {
   "cell_type": "code",
   "execution_count": 11,
   "id": "9a3b6474",
   "metadata": {},
   "outputs": [
    {
     "data": {
      "image/png": "[encoded data removed]",
      "text/plain": [
       "<Figure size 864x360 with 1 Axes>"
      ]
     },
     "metadata": {
      "needs_background": "light"
     },
     "output_type": "display_data"
    }
   ],
   "source": [
    "figure,axis = plt.subplots(figsize = (12,5)) \n",
    "#figure.autofmt_xdate() #prevent overlapping\n",
    "axis.plot(index,share_open)\n",
    "plt.tight_layout()"
   ]
  },
  {
   "cell_type": "markdown",
   "id": "318e0cfe",
   "metadata": {},
   "source": [
    "## DateTime Index"
   ]
  },
  {
   "cell_type": "code",
   "execution_count": 12,
   "id": "c28e9141",
   "metadata": {},
   "outputs": [
    {
     "name": "stdout",
     "output_type": "stream",
     "text": [
      "<class 'pandas.core.frame.DataFrame'>\n",
      "DatetimeIndex: 1259 entries, 2017-10-31 to 2022-10-31\n",
      "Data columns (total 6 columns):\n",
      " #   Column     Non-Null Count  Dtype  \n",
      "---  ------     --------------  -----  \n",
      " 0   High       1259 non-null   float64\n",
      " 1   Low        1259 non-null   float64\n",
      " 2   Open       1259 non-null   float64\n",
      " 3   Close      1259 non-null   float64\n",
      " 4   Volume     1259 non-null   float64\n",
      " 5   Adj Close  1259 non-null   float64\n",
      "dtypes: float64(6)\n",
      "memory usage: 101.1 KB\n"
     ]
    }
   ],
   "source": [
    "df_tesla.info()"
   ]
  },
  {
   "cell_type": "code",
   "execution_count": 13,
   "id": "17f63db5",
   "metadata": {},
   "outputs": [],
   "source": [
    "df_tesla = df_tesla.reset_index()"
   ]
  },
  {
   "cell_type": "code",
   "execution_count": 14,
   "id": "91c07334",
   "metadata": {},
   "outputs": [
    {
     "name": "stdout",
     "output_type": "stream",
     "text": [
      "<class 'pandas.core.frame.DataFrame'>\n",
      "RangeIndex: 1259 entries, 0 to 1258\n",
      "Data columns (total 7 columns):\n",
      " #   Column     Non-Null Count  Dtype         \n",
      "---  ------     --------------  -----         \n",
      " 0   Date       1259 non-null   datetime64[ns]\n",
      " 1   High       1259 non-null   float64       \n",
      " 2   Low        1259 non-null   float64       \n",
      " 3   Open       1259 non-null   float64       \n",
      " 4   Close      1259 non-null   float64       \n",
      " 5   Volume     1259 non-null   float64       \n",
      " 6   Adj Close  1259 non-null   float64       \n",
      "dtypes: datetime64[ns](1), float64(6)\n",
      "memory usage: 69.0 KB\n"
     ]
    }
   ],
   "source": [
    "df_tesla.info()"
   ]
  },
  {
   "cell_type": "code",
   "execution_count": 15,
   "id": "91c33367",
   "metadata": {},
   "outputs": [],
   "source": [
    "#to set index as per as your desired column\n",
    "df_tesla = df_tesla.set_index('Date')"
   ]
  },
  {
   "cell_type": "code",
   "execution_count": 16,
   "id": "c28e3654",
   "metadata": {},
   "outputs": [
    {
     "data": {
      "text/html": [
       "<div>\n",
       "<style scoped>\n",
       "    .dataframe tbody tr th:only-of-type {\n",
       "        vertical-align: middle;\n",
       "    }\n",
       "\n",
       "    .dataframe tbody tr th {\n",
       "        vertical-align: top;\n",
       "    }\n",
       "\n",
       "    .dataframe thead th {\n",
       "        text-align: right;\n",
       "    }\n",
       "</style>\n",
       "<table border=\"1\" class=\"dataframe\">\n",
       "  <thead>\n",
       "    <tr style=\"text-align: right;\">\n",
       "      <th></th>\n",
       "      <th>High</th>\n",
       "      <th>Low</th>\n",
       "      <th>Open</th>\n",
       "      <th>Close</th>\n",
       "      <th>Volume</th>\n",
       "      <th>Adj Close</th>\n",
       "    </tr>\n",
       "    <tr>\n",
       "      <th>Date</th>\n",
       "      <th></th>\n",
       "      <th></th>\n",
       "      <th></th>\n",
       "      <th></th>\n",
       "      <th></th>\n",
       "      <th></th>\n",
       "    </tr>\n",
       "  </thead>\n",
       "  <tbody>\n",
       "    <tr>\n",
       "      <th>2017-10-31</th>\n",
       "      <td>22.129999</td>\n",
       "      <td>21.345333</td>\n",
       "      <td>21.348667</td>\n",
       "      <td>22.101999</td>\n",
       "      <td>85084500.0</td>\n",
       "      <td>22.101999</td>\n",
       "    </tr>\n",
       "    <tr>\n",
       "      <th>2017-11-01</th>\n",
       "      <td>22.174000</td>\n",
       "      <td>21.350668</td>\n",
       "      <td>22.150000</td>\n",
       "      <td>21.405333</td>\n",
       "      <td>126859500.0</td>\n",
       "      <td>21.405333</td>\n",
       "    </tr>\n",
       "    <tr>\n",
       "      <th>2017-11-02</th>\n",
       "      <td>20.579332</td>\n",
       "      <td>19.508667</td>\n",
       "      <td>20.008667</td>\n",
       "      <td>19.950666</td>\n",
       "      <td>296871000.0</td>\n",
       "      <td>19.950666</td>\n",
       "    </tr>\n",
       "    <tr>\n",
       "      <th>2017-11-03</th>\n",
       "      <td>20.416668</td>\n",
       "      <td>19.675333</td>\n",
       "      <td>19.966667</td>\n",
       "      <td>20.406000</td>\n",
       "      <td>133410000.0</td>\n",
       "      <td>20.406000</td>\n",
       "    </tr>\n",
       "    <tr>\n",
       "      <th>2017-11-06</th>\n",
       "      <td>20.500000</td>\n",
       "      <td>19.934000</td>\n",
       "      <td>20.466667</td>\n",
       "      <td>20.185333</td>\n",
       "      <td>97290000.0</td>\n",
       "      <td>20.185333</td>\n",
       "    </tr>\n",
       "  </tbody>\n",
       "</table>\n",
       "</div>"
      ],
      "text/plain": [
       "                 High        Low       Open      Close       Volume  Adj Close\n",
       "Date                                                                          \n",
       "2017-10-31  22.129999  21.345333  21.348667  22.101999   85084500.0  22.101999\n",
       "2017-11-01  22.174000  21.350668  22.150000  21.405333  126859500.0  21.405333\n",
       "2017-11-02  20.579332  19.508667  20.008667  19.950666  296871000.0  19.950666\n",
       "2017-11-03  20.416668  19.675333  19.966667  20.406000  133410000.0  20.406000\n",
       "2017-11-06  20.500000  19.934000  20.466667  20.185333   97290000.0  20.185333"
      ]
     },
     "execution_count": 16,
     "metadata": {},
     "output_type": "execute_result"
    }
   ],
   "source": [
    "df_tesla.head()"
   ]
  },
  {
   "cell_type": "markdown",
   "id": "55169ff6",
   "metadata": {},
   "source": [
    "## Extract Date feature"
   ]
  },
  {
   "cell_type": "code",
   "execution_count": 17,
   "id": "df4f8e7f",
   "metadata": {},
   "outputs": [
    {
     "data": {
      "text/plain": [
       "datetime.datetime(2022, 10, 31, 19, 16, 31, 129954)"
      ]
     },
     "execution_count": 17,
     "metadata": {},
     "output_type": "execute_result"
    }
   ],
   "source": [
    "datetime.now()"
   ]
  },
  {
   "cell_type": "code",
   "execution_count": 18,
   "id": "cd48aea2",
   "metadata": {},
   "outputs": [],
   "source": [
    "date = datetime(2022,10,31)"
   ]
  },
  {
   "cell_type": "code",
   "execution_count": 19,
   "id": "549d7686",
   "metadata": {},
   "outputs": [
    {
     "data": {
      "text/plain": [
       "datetime.datetime(2022, 10, 31, 0, 0)"
      ]
     },
     "execution_count": 19,
     "metadata": {},
     "output_type": "execute_result"
    }
   ],
   "source": [
    "date"
   ]
  },
  {
   "cell_type": "code",
   "execution_count": 20,
   "id": "f2ec0b49",
   "metadata": {},
   "outputs": [
    {
     "data": {
      "text/plain": [
       "datetime.date(2022, 10, 31)"
      ]
     },
     "execution_count": 20,
     "metadata": {},
     "output_type": "execute_result"
    }
   ],
   "source": [
    "date.date()"
   ]
  },
  {
   "cell_type": "code",
   "execution_count": 21,
   "id": "ec7f0ab9",
   "metadata": {},
   "outputs": [
    {
     "data": {
      "text/plain": [
       "31"
      ]
     },
     "execution_count": 21,
     "metadata": {},
     "output_type": "execute_result"
    }
   ],
   "source": [
    "date.day"
   ]
  },
  {
   "cell_type": "code",
   "execution_count": 22,
   "id": "4bb146a8",
   "metadata": {},
   "outputs": [
    {
     "data": {
      "text/plain": [
       "0"
      ]
     },
     "execution_count": 22,
     "metadata": {},
     "output_type": "execute_result"
    }
   ],
   "source": [
    "date.weekday()"
   ]
  },
  {
   "cell_type": "code",
   "execution_count": 23,
   "id": "9bb03e23",
   "metadata": {},
   "outputs": [
    {
     "data": {
      "text/plain": [
       "10"
      ]
     },
     "execution_count": 23,
     "metadata": {},
     "output_type": "execute_result"
    }
   ],
   "source": [
    "date.month"
   ]
  },
  {
   "cell_type": "code",
   "execution_count": 24,
   "id": "6b1b9d05",
   "metadata": {},
   "outputs": [
    {
     "data": {
      "text/plain": [
       "2022"
      ]
     },
     "execution_count": 24,
     "metadata": {},
     "output_type": "execute_result"
    }
   ],
   "source": [
    "date.year"
   ]
  },
  {
   "cell_type": "code",
   "execution_count": 25,
   "id": "e675a0ba",
   "metadata": {},
   "outputs": [
    {
     "data": {
      "text/plain": [
       "datetime.datetime(1, 1, 1, 0, 0)"
      ]
     },
     "execution_count": 25,
     "metadata": {},
     "output_type": "execute_result"
    }
   ],
   "source": [
    "date.min"
   ]
  },
  {
   "cell_type": "markdown",
   "id": "ad593a56",
   "metadata": {},
   "source": [
    "# Time Resampling"
   ]
  },
  {
   "cell_type": "code",
   "execution_count": 26,
   "id": "5a55ef08",
   "metadata": {},
   "outputs": [
    {
     "data": {
      "text/html": [
       "<div>\n",
       "<style scoped>\n",
       "    .dataframe tbody tr th:only-of-type {\n",
       "        vertical-align: middle;\n",
       "    }\n",
       "\n",
       "    .dataframe tbody tr th {\n",
       "        vertical-align: top;\n",
       "    }\n",
       "\n",
       "    .dataframe thead th {\n",
       "        text-align: right;\n",
       "    }\n",
       "</style>\n",
       "<table border=\"1\" class=\"dataframe\">\n",
       "  <thead>\n",
       "    <tr style=\"text-align: right;\">\n",
       "      <th></th>\n",
       "      <th>High</th>\n",
       "      <th>Low</th>\n",
       "      <th>Open</th>\n",
       "      <th>Close</th>\n",
       "      <th>Volume</th>\n",
       "      <th>Adj Close</th>\n",
       "    </tr>\n",
       "    <tr>\n",
       "      <th>Date</th>\n",
       "      <th></th>\n",
       "      <th></th>\n",
       "      <th></th>\n",
       "      <th></th>\n",
       "      <th></th>\n",
       "      <th></th>\n",
       "    </tr>\n",
       "  </thead>\n",
       "  <tbody>\n",
       "    <tr>\n",
       "      <th>2017-10-31</th>\n",
       "      <td>22.129999</td>\n",
       "      <td>21.345333</td>\n",
       "      <td>21.348667</td>\n",
       "      <td>22.101999</td>\n",
       "      <td>85084500.0</td>\n",
       "      <td>22.101999</td>\n",
       "    </tr>\n",
       "    <tr>\n",
       "      <th>2017-11-01</th>\n",
       "      <td>22.174000</td>\n",
       "      <td>21.350668</td>\n",
       "      <td>22.150000</td>\n",
       "      <td>21.405333</td>\n",
       "      <td>126859500.0</td>\n",
       "      <td>21.405333</td>\n",
       "    </tr>\n",
       "    <tr>\n",
       "      <th>2017-11-02</th>\n",
       "      <td>20.579332</td>\n",
       "      <td>19.508667</td>\n",
       "      <td>20.008667</td>\n",
       "      <td>19.950666</td>\n",
       "      <td>296871000.0</td>\n",
       "      <td>19.950666</td>\n",
       "    </tr>\n",
       "    <tr>\n",
       "      <th>2017-11-03</th>\n",
       "      <td>20.416668</td>\n",
       "      <td>19.675333</td>\n",
       "      <td>19.966667</td>\n",
       "      <td>20.406000</td>\n",
       "      <td>133410000.0</td>\n",
       "      <td>20.406000</td>\n",
       "    </tr>\n",
       "    <tr>\n",
       "      <th>2017-11-06</th>\n",
       "      <td>20.500000</td>\n",
       "      <td>19.934000</td>\n",
       "      <td>20.466667</td>\n",
       "      <td>20.185333</td>\n",
       "      <td>97290000.0</td>\n",
       "      <td>20.185333</td>\n",
       "    </tr>\n",
       "  </tbody>\n",
       "</table>\n",
       "</div>"
      ],
      "text/plain": [
       "                 High        Low       Open      Close       Volume  Adj Close\n",
       "Date                                                                          \n",
       "2017-10-31  22.129999  21.345333  21.348667  22.101999   85084500.0  22.101999\n",
       "2017-11-01  22.174000  21.350668  22.150000  21.405333  126859500.0  21.405333\n",
       "2017-11-02  20.579332  19.508667  20.008667  19.950666  296871000.0  19.950666\n",
       "2017-11-03  20.416668  19.675333  19.966667  20.406000  133410000.0  20.406000\n",
       "2017-11-06  20.500000  19.934000  20.466667  20.185333   97290000.0  20.185333"
      ]
     },
     "execution_count": 26,
     "metadata": {},
     "output_type": "execute_result"
    }
   ],
   "source": [
    "df_tesla.head()"
   ]
  },
  {
   "cell_type": "markdown",
   "id": "e7a1c355",
   "metadata": {},
   "source": [
    "### Rule = 'A' means year end Frequency"
   ]
  },
  {
   "cell_type": "code",
   "execution_count": 27,
   "id": "3f7d40f1",
   "metadata": {},
   "outputs": [
    {
     "data": {
      "text/html": [
       "<div>\n",
       "<style scoped>\n",
       "    .dataframe tbody tr th:only-of-type {\n",
       "        vertical-align: middle;\n",
       "    }\n",
       "\n",
       "    .dataframe tbody tr th {\n",
       "        vertical-align: top;\n",
       "    }\n",
       "\n",
       "    .dataframe thead th {\n",
       "        text-align: right;\n",
       "    }\n",
       "</style>\n",
       "<table border=\"1\" class=\"dataframe\">\n",
       "  <thead>\n",
       "    <tr style=\"text-align: right;\">\n",
       "      <th></th>\n",
       "      <th>High</th>\n",
       "      <th>Low</th>\n",
       "      <th>Open</th>\n",
       "      <th>Close</th>\n",
       "      <th>Volume</th>\n",
       "      <th>Adj Close</th>\n",
       "    </tr>\n",
       "    <tr>\n",
       "      <th>Date</th>\n",
       "      <th></th>\n",
       "      <th></th>\n",
       "      <th></th>\n",
       "      <th></th>\n",
       "      <th></th>\n",
       "      <th></th>\n",
       "    </tr>\n",
       "  </thead>\n",
       "  <tbody>\n",
       "    <tr>\n",
       "      <th>2017-12-31</th>\n",
       "      <td>20.297333</td>\n",
       "      <td>19.508667</td>\n",
       "      <td>19.966667</td>\n",
       "      <td>19.950666</td>\n",
       "      <td>48661500.0</td>\n",
       "      <td>19.950666</td>\n",
       "    </tr>\n",
       "    <tr>\n",
       "      <th>2018-12-31</th>\n",
       "      <td>17.355333</td>\n",
       "      <td>16.306000</td>\n",
       "      <td>16.851999</td>\n",
       "      <td>16.704000</td>\n",
       "      <td>46210500.0</td>\n",
       "      <td>16.704000</td>\n",
       "    </tr>\n",
       "    <tr>\n",
       "      <th>2019-12-31</th>\n",
       "      <td>12.445333</td>\n",
       "      <td>11.799333</td>\n",
       "      <td>12.073333</td>\n",
       "      <td>11.931333</td>\n",
       "      <td>36984000.0</td>\n",
       "      <td>11.931333</td>\n",
       "    </tr>\n",
       "    <tr>\n",
       "      <th>2020-12-31</th>\n",
       "      <td>26.990667</td>\n",
       "      <td>23.367332</td>\n",
       "      <td>24.980000</td>\n",
       "      <td>24.081333</td>\n",
       "      <td>52073100.0</td>\n",
       "      <td>24.081333</td>\n",
       "    </tr>\n",
       "    <tr>\n",
       "      <th>2021-12-31</th>\n",
       "      <td>188.736664</td>\n",
       "      <td>179.830002</td>\n",
       "      <td>184.183334</td>\n",
       "      <td>187.666672</td>\n",
       "      <td>29401800.0</td>\n",
       "      <td>187.666672</td>\n",
       "    </tr>\n",
       "    <tr>\n",
       "      <th>2022-12-31</th>\n",
       "      <td>213.500000</td>\n",
       "      <td>198.589996</td>\n",
       "      <td>205.820007</td>\n",
       "      <td>204.990005</td>\n",
       "      <td>6807613.0</td>\n",
       "      <td>204.990005</td>\n",
       "    </tr>\n",
       "  </tbody>\n",
       "</table>\n",
       "</div>"
      ],
      "text/plain": [
       "                  High         Low        Open       Close      Volume  \\\n",
       "Date                                                                     \n",
       "2017-12-31   20.297333   19.508667   19.966667   19.950666  48661500.0   \n",
       "2018-12-31   17.355333   16.306000   16.851999   16.704000  46210500.0   \n",
       "2019-12-31   12.445333   11.799333   12.073333   11.931333  36984000.0   \n",
       "2020-12-31   26.990667   23.367332   24.980000   24.081333  52073100.0   \n",
       "2021-12-31  188.736664  179.830002  184.183334  187.666672  29401800.0   \n",
       "2022-12-31  213.500000  198.589996  205.820007  204.990005   6807613.0   \n",
       "\n",
       "             Adj Close  \n",
       "Date                    \n",
       "2017-12-31   19.950666  \n",
       "2018-12-31   16.704000  \n",
       "2019-12-31   11.931333  \n",
       "2020-12-31   24.081333  \n",
       "2021-12-31  187.666672  \n",
       "2022-12-31  204.990005  "
      ]
     },
     "execution_count": 27,
     "metadata": {},
     "output_type": "execute_result"
    }
   ],
   "source": [
    "df_tesla.resample(rule ='A').min()"
   ]
  },
  {
   "cell_type": "code",
   "execution_count": 28,
   "id": "b06981b9",
   "metadata": {},
   "outputs": [
    {
     "data": {
      "text/html": [
       "<div>\n",
       "<style scoped>\n",
       "    .dataframe tbody tr th:only-of-type {\n",
       "        vertical-align: middle;\n",
       "    }\n",
       "\n",
       "    .dataframe tbody tr th {\n",
       "        vertical-align: top;\n",
       "    }\n",
       "\n",
       "    .dataframe thead th {\n",
       "        text-align: right;\n",
       "    }\n",
       "</style>\n",
       "<table border=\"1\" class=\"dataframe\">\n",
       "  <thead>\n",
       "    <tr style=\"text-align: right;\">\n",
       "      <th></th>\n",
       "      <th>High</th>\n",
       "      <th>Low</th>\n",
       "      <th>Open</th>\n",
       "      <th>Close</th>\n",
       "      <th>Volume</th>\n",
       "      <th>Adj Close</th>\n",
       "    </tr>\n",
       "    <tr>\n",
       "      <th>Date</th>\n",
       "      <th></th>\n",
       "      <th></th>\n",
       "      <th></th>\n",
       "      <th></th>\n",
       "      <th></th>\n",
       "      <th></th>\n",
       "    </tr>\n",
       "  </thead>\n",
       "  <tbody>\n",
       "    <tr>\n",
       "      <th>2017-12-31</th>\n",
       "      <td>23.162666</td>\n",
       "      <td>22.505333</td>\n",
       "      <td>22.993334</td>\n",
       "      <td>22.896667</td>\n",
       "      <td>296871000.0</td>\n",
       "      <td>22.896667</td>\n",
       "    </tr>\n",
       "    <tr>\n",
       "      <th>2018-12-31</th>\n",
       "      <td>25.830667</td>\n",
       "      <td>24.474667</td>\n",
       "      <td>25.000000</td>\n",
       "      <td>25.304667</td>\n",
       "      <td>504745500.0</td>\n",
       "      <td>25.304667</td>\n",
       "    </tr>\n",
       "    <tr>\n",
       "      <th>2019-12-31</th>\n",
       "      <td>29.020666</td>\n",
       "      <td>28.423332</td>\n",
       "      <td>29.000000</td>\n",
       "      <td>28.729334</td>\n",
       "      <td>450091500.0</td>\n",
       "      <td>28.729334</td>\n",
       "    </tr>\n",
       "    <tr>\n",
       "      <th>2020-12-31</th>\n",
       "      <td>239.573334</td>\n",
       "      <td>230.373337</td>\n",
       "      <td>233.330002</td>\n",
       "      <td>235.223328</td>\n",
       "      <td>914082000.0</td>\n",
       "      <td>235.223328</td>\n",
       "    </tr>\n",
       "    <tr>\n",
       "      <th>2021-12-31</th>\n",
       "      <td>414.496674</td>\n",
       "      <td>405.666656</td>\n",
       "      <td>411.470001</td>\n",
       "      <td>409.970001</td>\n",
       "      <td>268189500.0</td>\n",
       "      <td>409.970001</td>\n",
       "    </tr>\n",
       "    <tr>\n",
       "      <th>2022-12-31</th>\n",
       "      <td>402.666656</td>\n",
       "      <td>378.679993</td>\n",
       "      <td>396.516663</td>\n",
       "      <td>399.926666</td>\n",
       "      <td>151565700.0</td>\n",
       "      <td>399.926666</td>\n",
       "    </tr>\n",
       "  </tbody>\n",
       "</table>\n",
       "</div>"
      ],
      "text/plain": [
       "                  High         Low        Open       Close       Volume  \\\n",
       "Date                                                                      \n",
       "2017-12-31   23.162666   22.505333   22.993334   22.896667  296871000.0   \n",
       "2018-12-31   25.830667   24.474667   25.000000   25.304667  504745500.0   \n",
       "2019-12-31   29.020666   28.423332   29.000000   28.729334  450091500.0   \n",
       "2020-12-31  239.573334  230.373337  233.330002  235.223328  914082000.0   \n",
       "2021-12-31  414.496674  405.666656  411.470001  409.970001  268189500.0   \n",
       "2022-12-31  402.666656  378.679993  396.516663  399.926666  151565700.0   \n",
       "\n",
       "             Adj Close  \n",
       "Date                    \n",
       "2017-12-31   22.896667  \n",
       "2018-12-31   25.304667  \n",
       "2019-12-31   28.729334  \n",
       "2020-12-31  235.223328  \n",
       "2021-12-31  409.970001  \n",
       "2022-12-31  399.926666  "
      ]
     },
     "execution_count": 28,
     "metadata": {},
     "output_type": "execute_result"
    }
   ],
   "source": [
    "df_tesla.resample(rule ='A').max()"
   ]
  },
  {
   "cell_type": "code",
   "execution_count": 29,
   "id": "fd7ecc7d",
   "metadata": {},
   "outputs": [
    {
     "data": {
      "text/plain": [
       "<AxesSubplot:xlabel='Date'>"
      ]
     },
     "execution_count": 29,
     "metadata": {},
     "output_type": "execute_result"
    },
    {
     "data": {
      "image/png": "[encoded data removed]",
      "text/plain": [
       "<Figure size 432x288 with 1 Axes>"
      ]
     },
     "metadata": {
      "needs_background": "light"
     },
     "output_type": "display_data"
    }
   ],
   "source": [
    "df_tesla.resample(rule ='A').max()['Open'].plot() "
   ]
  },
  {
   "cell_type": "markdown",
   "id": "a87cf996",
   "metadata": {},
   "source": [
    "### Quaterly start frequency"
   ]
  },
  {
   "cell_type": "code",
   "execution_count": 30,
   "id": "78713773",
   "metadata": {},
   "outputs": [
    {
     "data": {
      "text/plain": [
       "<AxesSubplot:xlabel='Date'>"
      ]
     },
     "execution_count": 30,
     "metadata": {},
     "output_type": "execute_result"
    },
    {
     "data": {
      "image/png": "[encoded data removed]",
      "text/plain": [
       "<Figure size 432x288 with 1 Axes>"
      ]
     },
     "metadata": {
      "needs_background": "light"
     },
     "output_type": "display_data"
    }
   ],
   "source": [
    "df_tesla.resample(rule ='QS').max()['High'].plot()"
   ]
  },
  {
   "cell_type": "markdown",
   "id": "ea386282",
   "metadata": {},
   "source": [
    "### Business End frequency"
   ]
  },
  {
   "cell_type": "code",
   "execution_count": 31,
   "id": "02928d62",
   "metadata": {},
   "outputs": [
    {
     "data": {
      "text/html": [
       "<div>\n",
       "<style scoped>\n",
       "    .dataframe tbody tr th:only-of-type {\n",
       "        vertical-align: middle;\n",
       "    }\n",
       "\n",
       "    .dataframe tbody tr th {\n",
       "        vertical-align: top;\n",
       "    }\n",
       "\n",
       "    .dataframe thead th {\n",
       "        text-align: right;\n",
       "    }\n",
       "</style>\n",
       "<table border=\"1\" class=\"dataframe\">\n",
       "  <thead>\n",
       "    <tr style=\"text-align: right;\">\n",
       "      <th></th>\n",
       "      <th>High</th>\n",
       "      <th>Low</th>\n",
       "      <th>Open</th>\n",
       "      <th>Close</th>\n",
       "      <th>Volume</th>\n",
       "      <th>Adj Close</th>\n",
       "    </tr>\n",
       "    <tr>\n",
       "      <th>Date</th>\n",
       "      <th></th>\n",
       "      <th></th>\n",
       "      <th></th>\n",
       "      <th></th>\n",
       "      <th></th>\n",
       "      <th></th>\n",
       "    </tr>\n",
       "  </thead>\n",
       "  <tbody>\n",
       "    <tr>\n",
       "      <th>2017-12-29</th>\n",
       "      <td>23.162666</td>\n",
       "      <td>22.505333</td>\n",
       "      <td>22.993334</td>\n",
       "      <td>22.896667</td>\n",
       "      <td>296871000.0</td>\n",
       "      <td>22.896667</td>\n",
       "    </tr>\n",
       "    <tr>\n",
       "      <th>2018-12-31</th>\n",
       "      <td>25.830667</td>\n",
       "      <td>24.474667</td>\n",
       "      <td>25.000000</td>\n",
       "      <td>25.304667</td>\n",
       "      <td>504745500.0</td>\n",
       "      <td>25.304667</td>\n",
       "    </tr>\n",
       "    <tr>\n",
       "      <th>2019-12-31</th>\n",
       "      <td>29.020666</td>\n",
       "      <td>28.423332</td>\n",
       "      <td>29.000000</td>\n",
       "      <td>28.729334</td>\n",
       "      <td>450091500.0</td>\n",
       "      <td>28.729334</td>\n",
       "    </tr>\n",
       "    <tr>\n",
       "      <th>2020-12-31</th>\n",
       "      <td>239.573334</td>\n",
       "      <td>230.373337</td>\n",
       "      <td>233.330002</td>\n",
       "      <td>235.223328</td>\n",
       "      <td>914082000.0</td>\n",
       "      <td>235.223328</td>\n",
       "    </tr>\n",
       "    <tr>\n",
       "      <th>2021-12-31</th>\n",
       "      <td>414.496674</td>\n",
       "      <td>405.666656</td>\n",
       "      <td>411.470001</td>\n",
       "      <td>409.970001</td>\n",
       "      <td>268189500.0</td>\n",
       "      <td>409.970001</td>\n",
       "    </tr>\n",
       "    <tr>\n",
       "      <th>2022-12-30</th>\n",
       "      <td>402.666656</td>\n",
       "      <td>378.679993</td>\n",
       "      <td>396.516663</td>\n",
       "      <td>399.926666</td>\n",
       "      <td>151565700.0</td>\n",
       "      <td>399.926666</td>\n",
       "    </tr>\n",
       "  </tbody>\n",
       "</table>\n",
       "</div>"
      ],
      "text/plain": [
       "                  High         Low        Open       Close       Volume  \\\n",
       "Date                                                                      \n",
       "2017-12-29   23.162666   22.505333   22.993334   22.896667  296871000.0   \n",
       "2018-12-31   25.830667   24.474667   25.000000   25.304667  504745500.0   \n",
       "2019-12-31   29.020666   28.423332   29.000000   28.729334  450091500.0   \n",
       "2020-12-31  239.573334  230.373337  233.330002  235.223328  914082000.0   \n",
       "2021-12-31  414.496674  405.666656  411.470001  409.970001  268189500.0   \n",
       "2022-12-30  402.666656  378.679993  396.516663  399.926666  151565700.0   \n",
       "\n",
       "             Adj Close  \n",
       "Date                    \n",
       "2017-12-29   22.896667  \n",
       "2018-12-31   25.304667  \n",
       "2019-12-31   28.729334  \n",
       "2020-12-31  235.223328  \n",
       "2021-12-31  409.970001  \n",
       "2022-12-30  399.926666  "
      ]
     },
     "execution_count": 31,
     "metadata": {},
     "output_type": "execute_result"
    }
   ],
   "source": [
    "# Business End frequency\n",
    "df_tesla.resample(rule ='BA').max()#['High'].plot()"
   ]
  },
  {
   "cell_type": "markdown",
   "id": "4b6eec5d",
   "metadata": {},
   "source": [
    "### Business Quater start frequency"
   ]
  },
  {
   "cell_type": "code",
   "execution_count": 32,
   "id": "cd3f14a6",
   "metadata": {},
   "outputs": [
    {
     "data": {
      "text/html": [
       "<div>\n",
       "<style scoped>\n",
       "    .dataframe tbody tr th:only-of-type {\n",
       "        vertical-align: middle;\n",
       "    }\n",
       "\n",
       "    .dataframe tbody tr th {\n",
       "        vertical-align: top;\n",
       "    }\n",
       "\n",
       "    .dataframe thead th {\n",
       "        text-align: right;\n",
       "    }\n",
       "</style>\n",
       "<table border=\"1\" class=\"dataframe\">\n",
       "  <thead>\n",
       "    <tr style=\"text-align: right;\">\n",
       "      <th></th>\n",
       "      <th>High</th>\n",
       "      <th>Low</th>\n",
       "      <th>Open</th>\n",
       "      <th>Close</th>\n",
       "      <th>Volume</th>\n",
       "      <th>Adj Close</th>\n",
       "    </tr>\n",
       "    <tr>\n",
       "      <th>Date</th>\n",
       "      <th></th>\n",
       "      <th></th>\n",
       "      <th></th>\n",
       "      <th></th>\n",
       "      <th></th>\n",
       "      <th></th>\n",
       "    </tr>\n",
       "  </thead>\n",
       "  <tbody>\n",
       "    <tr>\n",
       "      <th>2017-10-02</th>\n",
       "      <td>23.162666</td>\n",
       "      <td>22.505333</td>\n",
       "      <td>22.993334</td>\n",
       "      <td>22.896667</td>\n",
       "      <td>296871000.0</td>\n",
       "      <td>22.896667</td>\n",
       "    </tr>\n",
       "    <tr>\n",
       "      <th>2018-01-01</th>\n",
       "      <td>24.033333</td>\n",
       "      <td>23.490667</td>\n",
       "      <td>24.000000</td>\n",
       "      <td>23.827999</td>\n",
       "      <td>315021000.0</td>\n",
       "      <td>23.827999</td>\n",
       "    </tr>\n",
       "    <tr>\n",
       "      <th>2018-04-02</th>\n",
       "      <td>24.915333</td>\n",
       "      <td>23.633333</td>\n",
       "      <td>24.344000</td>\n",
       "      <td>24.722000</td>\n",
       "      <td>335211000.0</td>\n",
       "      <td>24.722000</td>\n",
       "    </tr>\n",
       "    <tr>\n",
       "      <th>2018-07-02</th>\n",
       "      <td>25.830667</td>\n",
       "      <td>24.474667</td>\n",
       "      <td>24.606001</td>\n",
       "      <td>25.304667</td>\n",
       "      <td>504745500.0</td>\n",
       "      <td>25.304667</td>\n",
       "    </tr>\n",
       "    <tr>\n",
       "      <th>2018-10-01</th>\n",
       "      <td>25.299334</td>\n",
       "      <td>24.450001</td>\n",
       "      <td>25.000000</td>\n",
       "      <td>25.119333</td>\n",
       "      <td>411382500.0</td>\n",
       "      <td>25.119333</td>\n",
       "    </tr>\n",
       "    <tr>\n",
       "      <th>2019-01-01</th>\n",
       "      <td>23.466667</td>\n",
       "      <td>22.943333</td>\n",
       "      <td>23.080667</td>\n",
       "      <td>23.153999</td>\n",
       "      <td>362262000.0</td>\n",
       "      <td>23.153999</td>\n",
       "    </tr>\n",
       "    <tr>\n",
       "      <th>2019-04-01</th>\n",
       "      <td>19.744667</td>\n",
       "      <td>19.144667</td>\n",
       "      <td>19.219999</td>\n",
       "      <td>19.454000</td>\n",
       "      <td>398206500.0</td>\n",
       "      <td>19.454000</td>\n",
       "    </tr>\n",
       "    <tr>\n",
       "      <th>2019-07-01</th>\n",
       "      <td>17.738001</td>\n",
       "      <td>17.210667</td>\n",
       "      <td>17.278000</td>\n",
       "      <td>17.658667</td>\n",
       "      <td>336274500.0</td>\n",
       "      <td>17.658667</td>\n",
       "    </tr>\n",
       "    <tr>\n",
       "      <th>2019-10-01</th>\n",
       "      <td>29.020666</td>\n",
       "      <td>28.423332</td>\n",
       "      <td>29.000000</td>\n",
       "      <td>28.729334</td>\n",
       "      <td>450091500.0</td>\n",
       "      <td>28.729334</td>\n",
       "    </tr>\n",
       "    <tr>\n",
       "      <th>2020-01-01</th>\n",
       "      <td>64.599335</td>\n",
       "      <td>60.068001</td>\n",
       "      <td>61.566666</td>\n",
       "      <td>61.161331</td>\n",
       "      <td>914082000.0</td>\n",
       "      <td>61.161331</td>\n",
       "    </tr>\n",
       "    <tr>\n",
       "      <th>2020-04-01</th>\n",
       "      <td>72.512665</td>\n",
       "      <td>66.915337</td>\n",
       "      <td>67.518669</td>\n",
       "      <td>71.987335</td>\n",
       "      <td>487977000.0</td>\n",
       "      <td>71.987335</td>\n",
       "    </tr>\n",
       "    <tr>\n",
       "      <th>2020-07-01</th>\n",
       "      <td>167.496674</td>\n",
       "      <td>156.836670</td>\n",
       "      <td>167.380005</td>\n",
       "      <td>166.106674</td>\n",
       "      <td>584781000.0</td>\n",
       "      <td>166.106674</td>\n",
       "    </tr>\n",
       "    <tr>\n",
       "      <th>2020-10-01</th>\n",
       "      <td>239.573334</td>\n",
       "      <td>230.373337</td>\n",
       "      <td>233.330002</td>\n",
       "      <td>235.223328</td>\n",
       "      <td>666378600.0</td>\n",
       "      <td>235.223328</td>\n",
       "    </tr>\n",
       "    <tr>\n",
       "      <th>2021-01-01</th>\n",
       "      <td>300.133331</td>\n",
       "      <td>290.533325</td>\n",
       "      <td>297.126678</td>\n",
       "      <td>294.363342</td>\n",
       "      <td>268189500.0</td>\n",
       "      <td>294.363342</td>\n",
       "    </tr>\n",
       "    <tr>\n",
       "      <th>2021-04-01</th>\n",
       "      <td>260.263336</td>\n",
       "      <td>244.203339</td>\n",
       "      <td>256.899994</td>\n",
       "      <td>254.106674</td>\n",
       "      <td>147052200.0</td>\n",
       "      <td>254.106674</td>\n",
       "    </tr>\n",
       "    <tr>\n",
       "      <th>2021-07-01</th>\n",
       "      <td>266.333344</td>\n",
       "      <td>258.333344</td>\n",
       "      <td>262.399994</td>\n",
       "      <td>263.786682</td>\n",
       "      <td>100847400.0</td>\n",
       "      <td>263.786682</td>\n",
       "    </tr>\n",
       "    <tr>\n",
       "      <th>2021-10-01</th>\n",
       "      <td>414.496674</td>\n",
       "      <td>405.666656</td>\n",
       "      <td>411.470001</td>\n",
       "      <td>409.970001</td>\n",
       "      <td>188556300.0</td>\n",
       "      <td>409.970001</td>\n",
       "    </tr>\n",
       "    <tr>\n",
       "      <th>2022-01-03</th>\n",
       "      <td>402.666656</td>\n",
       "      <td>378.679993</td>\n",
       "      <td>396.516663</td>\n",
       "      <td>399.926666</td>\n",
       "      <td>151565700.0</td>\n",
       "      <td>399.926666</td>\n",
       "    </tr>\n",
       "    <tr>\n",
       "      <th>2022-04-01</th>\n",
       "      <td>384.290009</td>\n",
       "      <td>362.433319</td>\n",
       "      <td>378.766663</td>\n",
       "      <td>381.816681</td>\n",
       "      <td>144973200.0</td>\n",
       "      <td>381.816681</td>\n",
       "    </tr>\n",
       "    <tr>\n",
       "      <th>2022-07-01</th>\n",
       "      <td>314.666656</td>\n",
       "      <td>305.579987</td>\n",
       "      <td>311.666656</td>\n",
       "      <td>309.320007</td>\n",
       "      <td>142032300.0</td>\n",
       "      <td>309.320007</td>\n",
       "    </tr>\n",
       "    <tr>\n",
       "      <th>2022-10-03</th>\n",
       "      <td>257.500000</td>\n",
       "      <td>242.009995</td>\n",
       "      <td>254.500000</td>\n",
       "      <td>249.440002</td>\n",
       "      <td>117798100.0</td>\n",
       "      <td>249.440002</td>\n",
       "    </tr>\n",
       "  </tbody>\n",
       "</table>\n",
       "</div>"
      ],
      "text/plain": [
       "                  High         Low        Open       Close       Volume  \\\n",
       "Date                                                                      \n",
       "2017-10-02   23.162666   22.505333   22.993334   22.896667  296871000.0   \n",
       "2018-01-01   24.033333   23.490667   24.000000   23.827999  315021000.0   \n",
       "2018-04-02   24.915333   23.633333   24.344000   24.722000  335211000.0   \n",
       "2018-07-02   25.830667   24.474667   24.606001   25.304667  504745500.0   \n",
       "2018-10-01   25.299334   24.450001   25.000000   25.119333  411382500.0   \n",
       "2019-01-01   23.466667   22.943333   23.080667   23.153999  362262000.0   \n",
       "2019-04-01   19.744667   19.144667   19.219999   19.454000  398206500.0   \n",
       "2019-07-01   17.738001   17.210667   17.278000   17.658667  336274500.0   \n",
       "2019-10-01   29.020666   28.423332   29.000000   28.729334  450091500.0   \n",
       "2020-01-01   64.599335   60.068001   61.566666   61.161331  914082000.0   \n",
       "2020-04-01   72.512665   66.915337   67.518669   71.987335  487977000.0   \n",
       "2020-07-01  167.496674  156.836670  167.380005  166.106674  584781000.0   \n",
       "2020-10-01  239.573334  230.373337  233.330002  235.223328  666378600.0   \n",
       "2021-01-01  300.133331  290.533325  297.126678  294.363342  268189500.0   \n",
       "2021-04-01  260.263336  244.203339  256.899994  254.106674  147052200.0   \n",
       "2021-07-01  266.333344  258.333344  262.399994  263.786682  100847400.0   \n",
       "2021-10-01  414.496674  405.666656  411.470001  409.970001  188556300.0   \n",
       "2022-01-03  402.666656  378.679993  396.516663  399.926666  151565700.0   \n",
       "2022-04-01  384.290009  362.433319  378.766663  381.816681  144973200.0   \n",
       "2022-07-01  314.666656  305.579987  311.666656  309.320007  142032300.0   \n",
       "2022-10-03  257.500000  242.009995  254.500000  249.440002  117798100.0   \n",
       "\n",
       "             Adj Close  \n",
       "Date                    \n",
       "2017-10-02   22.896667  \n",
       "2018-01-01   23.827999  \n",
       "2018-04-02   24.722000  \n",
       "2018-07-02   25.304667  \n",
       "2018-10-01   25.119333  \n",
       "2019-01-01   23.153999  \n",
       "2019-04-01   19.454000  \n",
       "2019-07-01   17.658667  \n",
       "2019-10-01   28.729334  \n",
       "2020-01-01   61.161331  \n",
       "2020-04-01   71.987335  \n",
       "2020-07-01  166.106674  \n",
       "2020-10-01  235.223328  \n",
       "2021-01-01  294.363342  \n",
       "2021-04-01  254.106674  \n",
       "2021-07-01  263.786682  \n",
       "2021-10-01  409.970001  \n",
       "2022-01-03  399.926666  \n",
       "2022-04-01  381.816681  \n",
       "2022-07-01  309.320007  \n",
       "2022-10-03  249.440002  "
      ]
     },
     "execution_count": 32,
     "metadata": {},
     "output_type": "execute_result"
    }
   ],
   "source": [
    "# Business Quater start frequency\n",
    "df_tesla.resample(rule ='BQS').max()"
   ]
  },
  {
   "cell_type": "markdown",
   "id": "6689de26",
   "metadata": {},
   "source": [
    "### Visualization"
   ]
  },
  {
   "cell_type": "code",
   "execution_count": 33,
   "id": "0244fbd9",
   "metadata": {},
   "outputs": [
    {
     "data": {
      "text/plain": [
       "(array([0, 1, 2, 3, 4, 5]),\n",
       " [Text(0, 0, '2017-12-31 00:00:00'),\n",
       "  Text(1, 0, '2018-12-31 00:00:00'),\n",
       "  Text(2, 0, '2019-12-31 00:00:00'),\n",
       "  Text(3, 0, '2020-12-31 00:00:00'),\n",
       "  Text(4, 0, '2021-12-31 00:00:00'),\n",
       "  Text(5, 0, '2022-12-31 00:00:00')])"
      ]
     },
     "execution_count": 33,
     "metadata": {},
     "output_type": "execute_result"
    },
    {
     "data": {
      "image/png": "[encoded data removed]",
      "text/plain": [
       "<Figure size 864x360 with 1 Axes>"
      ]
     },
     "metadata": {
      "needs_background": "light"
     },
     "output_type": "display_data"
    }
   ],
   "source": [
    "#plotting\n",
    "plt.figure(figsize = (12,5))\n",
    "df_tesla['Open'].resample(rule ='A').mean().plot(kind = 'bar')\n",
    "plt.xticks(rotation = 20)"
   ]
  },
  {
   "cell_type": "code",
   "execution_count": 34,
   "id": "92d72b00",
   "metadata": {},
   "outputs": [
    {
     "data": {
      "text/plain": [
       "<AxesSubplot:xlabel='Date'>"
      ]
     },
     "execution_count": 34,
     "metadata": {},
     "output_type": "execute_result"
    },
    {
     "data": {
      "image/png": "[encoded data removed]",
      "text/plain": [
       "<Figure size 1080x360 with 1 Axes>"
      ]
     },
     "metadata": {
      "needs_background": "light"
     },
     "output_type": "display_data"
    }
   ],
   "source": [
    "df_tesla['Open'].resample(rule ='M').max().plot.bar(figsize = (15,5))"
   ]
  },
  {
   "cell_type": "markdown",
   "id": "d5de5a0c",
   "metadata": {},
   "source": [
    "### Rolling"
   ]
  },
  {
   "cell_type": "code",
   "execution_count": 35,
   "id": "607bbd14",
   "metadata": {},
   "outputs": [
    {
     "data": {
      "text/plain": [
       "Date\n",
       "2017-10-31          NaN\n",
       "2017-11-01          NaN\n",
       "2017-11-02          NaN\n",
       "2017-11-03          NaN\n",
       "2017-11-06          NaN\n",
       "2017-11-07          NaN\n",
       "2017-11-08          NaN\n",
       "2017-11-09          NaN\n",
       "2017-11-10          NaN\n",
       "2017-11-13    20.866733\n",
       "2017-11-14    20.762733\n",
       "2017-11-15    20.628600\n",
       "2017-11-16    20.691600\n",
       "2017-11-17    20.827733\n",
       "2017-11-20    20.881067\n",
       "2017-11-21    20.959267\n",
       "2017-11-22    21.029467\n",
       "2017-11-24    21.109133\n",
       "2017-11-27    21.169000\n",
       "2017-11-28    21.190333\n",
       "Name: High, dtype: float64"
      ]
     },
     "execution_count": 35,
     "metadata": {},
     "output_type": "execute_result"
    }
   ],
   "source": [
    "df_tesla['High'].rolling(10).mean().head(20)"
   ]
  },
  {
   "cell_type": "code",
   "execution_count": 36,
   "id": "df9e980f",
   "metadata": {},
   "outputs": [],
   "source": [
    "df_tesla['Open:10 days rolling'] = df_tesla['Open'].rolling(10).mean()"
   ]
  },
  {
   "cell_type": "code",
   "execution_count": 37,
   "id": "6ac7f6e0",
   "metadata": {},
   "outputs": [
    {
     "data": {
      "text/html": [
       "<div>\n",
       "<style scoped>\n",
       "    .dataframe tbody tr th:only-of-type {\n",
       "        vertical-align: middle;\n",
       "    }\n",
       "\n",
       "    .dataframe tbody tr th {\n",
       "        vertical-align: top;\n",
       "    }\n",
       "\n",
       "    .dataframe thead th {\n",
       "        text-align: right;\n",
       "    }\n",
       "</style>\n",
       "<table border=\"1\" class=\"dataframe\">\n",
       "  <thead>\n",
       "    <tr style=\"text-align: right;\">\n",
       "      <th></th>\n",
       "      <th>High</th>\n",
       "      <th>Low</th>\n",
       "      <th>Open</th>\n",
       "      <th>Close</th>\n",
       "      <th>Volume</th>\n",
       "      <th>Adj Close</th>\n",
       "      <th>Open:10 days rolling</th>\n",
       "    </tr>\n",
       "    <tr>\n",
       "      <th>Date</th>\n",
       "      <th></th>\n",
       "      <th></th>\n",
       "      <th></th>\n",
       "      <th></th>\n",
       "      <th></th>\n",
       "      <th></th>\n",
       "      <th></th>\n",
       "    </tr>\n",
       "  </thead>\n",
       "  <tbody>\n",
       "    <tr>\n",
       "      <th>2017-10-31</th>\n",
       "      <td>22.129999</td>\n",
       "      <td>21.345333</td>\n",
       "      <td>21.348667</td>\n",
       "      <td>22.101999</td>\n",
       "      <td>85084500.0</td>\n",
       "      <td>22.101999</td>\n",
       "      <td>NaN</td>\n",
       "    </tr>\n",
       "    <tr>\n",
       "      <th>2017-11-01</th>\n",
       "      <td>22.174000</td>\n",
       "      <td>21.350668</td>\n",
       "      <td>22.150000</td>\n",
       "      <td>21.405333</td>\n",
       "      <td>126859500.0</td>\n",
       "      <td>21.405333</td>\n",
       "      <td>NaN</td>\n",
       "    </tr>\n",
       "    <tr>\n",
       "      <th>2017-11-02</th>\n",
       "      <td>20.579332</td>\n",
       "      <td>19.508667</td>\n",
       "      <td>20.008667</td>\n",
       "      <td>19.950666</td>\n",
       "      <td>296871000.0</td>\n",
       "      <td>19.950666</td>\n",
       "      <td>NaN</td>\n",
       "    </tr>\n",
       "    <tr>\n",
       "      <th>2017-11-03</th>\n",
       "      <td>20.416668</td>\n",
       "      <td>19.675333</td>\n",
       "      <td>19.966667</td>\n",
       "      <td>20.406000</td>\n",
       "      <td>133410000.0</td>\n",
       "      <td>20.406000</td>\n",
       "      <td>NaN</td>\n",
       "    </tr>\n",
       "    <tr>\n",
       "      <th>2017-11-06</th>\n",
       "      <td>20.500000</td>\n",
       "      <td>19.934000</td>\n",
       "      <td>20.466667</td>\n",
       "      <td>20.185333</td>\n",
       "      <td>97290000.0</td>\n",
       "      <td>20.185333</td>\n",
       "      <td>NaN</td>\n",
       "    </tr>\n",
       "  </tbody>\n",
       "</table>\n",
       "</div>"
      ],
      "text/plain": [
       "                 High        Low       Open      Close       Volume  \\\n",
       "Date                                                                  \n",
       "2017-10-31  22.129999  21.345333  21.348667  22.101999   85084500.0   \n",
       "2017-11-01  22.174000  21.350668  22.150000  21.405333  126859500.0   \n",
       "2017-11-02  20.579332  19.508667  20.008667  19.950666  296871000.0   \n",
       "2017-11-03  20.416668  19.675333  19.966667  20.406000  133410000.0   \n",
       "2017-11-06  20.500000  19.934000  20.466667  20.185333   97290000.0   \n",
       "\n",
       "            Adj Close  Open:10 days rolling  \n",
       "Date                                         \n",
       "2017-10-31  22.101999                   NaN  \n",
       "2017-11-01  21.405333                   NaN  \n",
       "2017-11-02  19.950666                   NaN  \n",
       "2017-11-03  20.406000                   NaN  \n",
       "2017-11-06  20.185333                   NaN  "
      ]
     },
     "execution_count": 37,
     "metadata": {},
     "output_type": "execute_result"
    }
   ],
   "source": [
    "df_tesla.head()"
   ]
  },
  {
   "cell_type": "code",
   "execution_count": 38,
   "id": "40475fb5",
   "metadata": {},
   "outputs": [
    {
     "data": {
      "text/plain": [
       "<AxesSubplot:xlabel='Date'>"
      ]
     },
     "execution_count": 38,
     "metadata": {},
     "output_type": "execute_result"
    },
    {
     "data": {
      "image/png": "[encoded data removed]",
      "text/plain": [
       "<Figure size 1080x576 with 1 Axes>"
      ]
     },
     "metadata": {
      "needs_background": "light"
     },
     "output_type": "display_data"
    }
   ],
   "source": [
    "df_tesla[['Open','Open:10 days rolling']].plot(figsize = (15,8))"
   ]
  }
 ],
 "metadata": {
  "kernelspec": {
   "display_name": "Python 3 (ipykernel)",
   "language": "python",
   "name": "python3"
  },
  "language_info": {
   "codemirror_mode": {
    "name": "ipython",
    "version": 3
   },
   "file_extension": ".py",
   "mimetype": "text/x-python",
   "name": "python",
   "nbconvert_exporter": "python",
   "pygments_lexer": "ipython3",
   "version": "3.10.5"
  }
 },
 "nbformat": 4,
 "nbformat_minor": 5
}
